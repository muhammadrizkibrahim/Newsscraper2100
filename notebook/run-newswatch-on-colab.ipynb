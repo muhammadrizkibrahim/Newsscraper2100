{
 "cells": [
  {
   "cell_type": "markdown",
   "metadata": {},
   "source": [
    "# News Watch: Indonesia's News Websites Scraper\n",
    "\n",
    "This notebook demonstrates how to use the **news-watch** package to scrape Indonesian news articles. The package supports various command-line arguments that can be used to customize your scraping process.\n",
    "\n",
    "[![Open In Colab](https://colab.research.google.com/assets/colab-badge.svg)](https://colab.research.google.com/github/okkymabruri/news-watch/blob/main/notebook/run-newswatch-on-colab.ipynb)\n",
    "\n",
    "## 📋 Overview\n",
    "\n",
    "The **news-watch** package enables you to:\n",
    "- 🔍 Scrape articles from 14+ major Indonesian news websites\n",
    "- 🎯 Filter articles based on keywords\n",
    "- 📅 Specify a start date for scraping\n",
    "- 📊 Choose output formats (CSV or XLSX)\n",
    "- ⚙️ Control logging verbosity\n",
    "- 🌐 Select specific news sources or use all available\n",
    "\n",
    "**Note:** This notebook is optimized for Google Colab. Output files (CSV/XLSX) will appear in the Files panel on the left.\n",
    "\n",
    "## 🌐 Supported News Websites\n",
    "\n",
    "- [Antaranews.com](https://www.antaranews.com/)\n",
    "- [Bisnis.com](https://www.bisnis.com/)\n",
    "- [Bloomberg Technoz](https://www.bloombergtechnoz.com/)\n",
    "- [CNBC Indonesia](https://www.cnbcindonesia.com/)\n",
    "- [Detik.com](https://www.detik.com/)\n",
    "- [Jawapos.com](https://www.jawapos.com/)\n",
    "- [Katadata.co.id](https://katadata.co.id/)\n",
    "- [Kompas.com](https://www.kompas.com/)\n",
    "- [Kontan.co.id](https://www.kontan.co.id/)\n",
    "- [Media Indonesia](https://mediaindonesia.com/)\n",
    "- [Metrotvnews.com](https://metrotvnews.com/)\n",
    "- [Okezone.com](https://www.okezone.com/)\n",
    "- [Tempo.co](https://www.tempo.co/)\n",
    "- [Viva.co.id](https://www.viva.co.id/)\n",
    "\n",
    "**Platform Notes:**\n",
    "- Some scrapers (Kontan.co.id, Jawapos, Bisnis.com) are automatically excluded on Linux platforms due to compatibility issues\n",
    "- Use `-s all` to force all scrapers (may cause errors on some platforms)\n",
    "- Kontan.co.id scraper has a maximum limit of 50 pages"
   ]
  },
  {
   "cell_type": "markdown",
   "metadata": {},
   "source": [
    "## 🛠️ Installation\n",
    "\n",
    "### Step 1: Install the news-watch package"
   ]
  },
  {
   "cell_type": "code",
   "execution_count": null,
   "metadata": {},
   "outputs": [],
   "source": [
    "!pip install news-watch --upgrade"
   ]
  },
  {
   "cell_type": "markdown",
   "metadata": {},
   "source": [
    "### Alternative: Install development version"
   ]
  },
  {
   "cell_type": "code",
   "execution_count": null,
   "metadata": {},
   "outputs": [],
   "source": [
    "# !pip install git+https://github.com/okkymabruri/news-watch.git@dev"
   ]
  },
  {
   "cell_type": "markdown",
   "metadata": {},
   "source": [
    "### Step 2: Install Playwright browsers (Required)"
   ]
  },
  {
   "cell_type": "code",
   "execution_count": null,
   "metadata": {},
   "outputs": [],
   "source": [
    "!playwright install chromium"
   ]
  },
  {
   "cell_type": "markdown",
   "metadata": {},
   "source": [
    "## 📖 Command Line Arguments\n",
    "\n",
    "### Required Arguments:\n",
    "- `-k` or `--keywords`: Comma-separated list of keywords (e.g., `\"ihsg,bank,keuangan\"`)\n",
    "- `-sd` or `--start_date`: Start date in YYYY-MM-DD format (e.g., `2025-01-01`)\n",
    "\n",
    "### Optional Arguments:\n",
    "- `-s` or `--scrapers`: Specific scrapers to use (default: 'auto')\n",
    "  - `auto`: Platform-appropriate scrapers (recommended)\n",
    "  - `all`: Force all scrapers (may fail on some platforms)\n",
    "  - Specific names: e.g., `\"kompas,detik,cnbcindonesia\"`\n",
    "- `-of` or `--output_format`: Output format (`csv` or `xlsx`, default: csv)\n",
    "- `-v` or `--verbose`: Show all logging output (silent by default)\n",
    "- `--list_scrapers`: List all supported scrapers\n",
    "\n",
    "### 💡 Shell Commands in Notebooks\n",
    "The \"!\" prefix executes shell commands in notebook cells. Since news-watch is a command-line tool, all commands must start with \"!\"."
   ]
  },
  {
   "cell_type": "markdown",
   "metadata": {},
   "source": [
    "## 🚀 Getting Started\n",
    "\n",
    "### Display help information"
   ]
  },
  {
   "cell_type": "code",
   "execution_count": null,
   "metadata": {},
   "outputs": [],
   "source": [
    "!newswatch --help"
   ]
  },
  {
   "cell_type": "markdown",
   "metadata": {},
   "source": [
    "### List available scrapers"
   ]
  },
  {
   "cell_type": "code",
   "execution_count": null,
   "metadata": {},
   "outputs": [],
   "source": [
    "!newswatch --list_scrapers"
   ]
  },
  {
   "cell_type": "markdown",
   "metadata": {},
   "source": [
    "## 📝 Basic Examples\n",
    "\n",
    "### Example 1: Simple keyword search"
   ]
  },
  {
   "cell_type": "code",
   "execution_count": null,
   "metadata": {},
   "outputs": [],
   "source": [
    "!newswatch --keywords ihsg --start_date 2025-01-01"
   ]
  },
  {
   "cell_type": "markdown",
   "metadata": {},
   "source": [
    "### Example 2: Multiple keywords with verbose output"
   ]
  },
  {
   "cell_type": "code",
   "execution_count": null,
   "metadata": {},
   "outputs": [],
   "source": [
    "!newswatch -k \"ihsg,bank,keuangan\" -sd 2025-01-01 -v"
   ]
  },
  {
   "cell_type": "markdown",
   "metadata": {},
   "source": [
    "### Example 3: Economic keywords (Indonesian terms)"
   ]
  },
  {
   "cell_type": "code",
   "execution_count": null,
   "metadata": {},
   "outputs": [],
   "source": [
    "!newswatch -k \"pasar modal,kebijakan,suku bunga\" -sd 2025-01-01 -v"
   ]
  },
  {
   "cell_type": "markdown",
   "metadata": {},
   "source": [
    "## 🎯 Advanced Examples\n",
    "\n",
    "### Example 4: Specific news sources with Excel output"
   ]
  },
  {
   "cell_type": "code",
   "execution_count": null,
   "metadata": {},
   "outputs": [],
   "source": [
    "!newswatch -k \"presiden\" -s \"antaranews,bisnis,detik,cnbcindonesia\" --output_format xlsx -sd 2025-01-01"
   ]
  },
  {
   "cell_type": "markdown",
   "metadata": {},
   "source": [
    "### Example 5: High-quality sources for financial news"
   ]
  },
  {
   "cell_type": "code",
   "execution_count": null,
   "metadata": {},
   "outputs": [],
   "source": [
    "!newswatch -k \"investasi,saham\" -s \"kontan,bisnis,cnbcindonesia\" -sd 2025-01-01 --output_format xlsx -v"
   ]
  },
  {
   "cell_type": "markdown",
   "metadata": {},
   "source": [
    "### Example 6: Political news from major sources"
   ]
  },
  {
   "cell_type": "code",
   "execution_count": null,
   "metadata": {},
   "outputs": [],
   "source": [
    "!newswatch -k \"pemilu,politik\" -s \"kompas,tempo,detik\" -sd 2025-01-01 -v"
   ]
  },
  {
   "cell_type": "markdown",
   "metadata": {},
   "source": [
    "### Example 7: Force all scrapers (use with caution)"
   ]
  },
  {
   "cell_type": "code",
   "execution_count": null,
   "metadata": {},
   "outputs": [],
   "source": [
    "# !newswatch -k \"ekonomi\" -sd 2025-01-01 -s \"all\" -v"
   ]
  },
  {
   "cell_type": "markdown",
   "metadata": {},
   "source": [
    "## 📊 Output Format\n",
    "\n",
    "The scraped articles are saved with the format: `news-watch-{keywords}-YYYYMMDD_HH`\n",
    "\n",
    "### Output columns include:\n",
    "- `title`: Article headline\n",
    "- `publish_date`: Publication date\n",
    "- `author`: Article author\n",
    "- `content`: Full article content\n",
    "- `keyword`: Matched keyword\n",
    "- `category`: News category\n",
    "- `source`: News website source\n",
    "- `link`: Original article URL\n",
    "\n",
    "### File formats:\n",
    "- **CSV**: Default format, smaller file size\n",
    "- **XLSX**: Excel format, better for analysis tools"
   ]
  },
  {
   "cell_type": "markdown",
   "metadata": {},
   "source": [
    "## ⚠️ Important Notes\n",
    "\n",
    "### Ethical Usage:\n",
    "- This tool is for **educational and research purposes only**\n",
    "- Users must comply with each website's Terms of Service and robots.txt\n",
    "- Avoid aggressive scraping that could overload servers\n",
    "- Respect rate limits and website policies\n",
    "\n",
    "### Technical Limitations:\n",
    "- Some scrapers may be excluded on certain platforms for compatibility\n",
    "- Kontan.co.id has a 50-page limit\n",
    "- Network issues may affect scraping success\n",
    "- Some websites may implement anti-scraping measures\n",
    "\n",
    "### Troubleshooting:\n",
    "- If scraping fails, try with specific scrapers using `-s`\n",
    "- Use `-v` flag to see detailed logging for debugging\n",
    "- Check internet connection and website availability\n",
    "- Some websites may be temporarily unavailable"
   ]
  },
  {
   "cell_type": "markdown",
   "metadata": {},
   "source": [
    "\n",
    "---\n",
    "*Happy scraping! 🚀*"
   ]
  }
 ],
 "metadata": {
  "language_info": {
   "name": "python"
  }
 },
 "nbformat": 4,
 "nbformat_minor": 2
}
